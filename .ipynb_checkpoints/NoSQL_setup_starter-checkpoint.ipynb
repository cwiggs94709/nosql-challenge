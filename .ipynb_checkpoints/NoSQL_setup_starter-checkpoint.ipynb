{
 "cells": [
  {
   "cell_type": "markdown",
   "id": "9a57c4c6",
   "metadata": {},
   "source": [
    "# Eat Safe, Love"
   ]
  },
  {
   "cell_type": "markdown",
   "id": "064ef857",
   "metadata": {},
   "source": [
    "## Part 1: Database and Jupyter Notebook Set Up"
   ]
  },
  {
   "cell_type": "markdown",
   "id": "664e3c1f",
   "metadata": {},
   "source": [
    "Import the data provided in the `establishments.json` file from your Terminal. Name the database `uk_food` and the collection `establishments`.\n",
    "\n",
    "Within this markdown cell, copy the line of text you used to import the data from your Terminal. This way, future analysts will be able to repeat your process.\n",
    "\n",
    "e.g.: Import the dataset with: mongoimport --db uk_food --collection establishments --file establishments.json --jsonArray\r\n"
   ]
  },
  {
   "cell_type": "code",
   "execution_count": 1,
   "id": "3ecdd008",
   "metadata": {},
   "outputs": [],
   "source": [
    "# Import dependencies\n",
    "from pymongo import MongoClient\n",
    "from pprint import pprint"
   ]
  },
  {
   "cell_type": "code",
   "execution_count": 2,
   "id": "59390c4a",
   "metadata": {},
   "outputs": [],
   "source": [
    "# Create an instance of MongoClient\n",
    "mongo = MongoClient(port=27017)"
   ]
  },
  {
   "cell_type": "code",
   "execution_count": 3,
   "id": "7f9ececa",
   "metadata": {},
   "outputs": [
    {
     "name": "stdout",
     "output_type": "stream",
     "text": [
      "Database 'uk_food' found.\n"
     ]
    }
   ],
   "source": [
    "# confirm that our new database was created\n",
    "# Connect to the default host and port\n",
    "client = MongoClient('mongodb://localhost:27017/')\n",
    "\n",
    "# Database name\n",
    "db_name = 'uk_food'\n",
    "\n",
    "# Collection name\n",
    "collection_name = 'establishments'\n",
    "\n",
    "# Check if the database exists\n",
    "db_list = client.list_database_names()\n",
    "if db_name in db_list:\n",
    "    print(f\"Database '{db_name}' found.\")"
   ]
  },
  {
   "cell_type": "code",
   "execution_count": 4,
   "id": "71e373c1",
   "metadata": {},
   "outputs": [],
   "source": [
    "# assign the uk_food database to a variable name\n",
    "db = mongo['uk_food']"
   ]
  },
  {
   "cell_type": "code",
   "execution_count": 7,
   "id": "ef1b89ed",
   "metadata": {},
   "outputs": [
    {
     "name": "stdout",
     "output_type": "stream",
     "text": [
      "Collection 'establishments' found.\n"
     ]
    }
   ],
   "source": [
    "# review the collections in our new database\n",
    "if collection_name in db.list_collection_names():\n",
    "    print(f\"Collection '{collection_name}' found.\")\n",
    "else:\n",
    "    print(f\"Collection '{collection_name}' not found.\")"
   ]
  },
  {
   "cell_type": "code",
   "execution_count": 18,
   "id": "6a0d92df",
   "metadata": {},
   "outputs": [
    {
     "name": "stdout",
     "output_type": "stream",
     "text": [
      "{'AddressLine1': 'The Bay',\n",
      " 'AddressLine2': 'St Margarets Bay',\n",
      " 'AddressLine3': 'Kent',\n",
      " 'AddressLine4': '',\n",
      " 'BusinessName': 'Refreshment Kiosk',\n",
      " 'BusinessType': 'Restaurant/Cafe/Canteen',\n",
      " 'BusinessTypeID': 1,\n",
      " 'ChangesByServerID': 0,\n",
      " 'Distance': 4587.347174863443,\n",
      " 'FHRSID': 254719,\n",
      " 'LocalAuthorityBusinessID': 'PI/000069980',\n",
      " 'LocalAuthorityCode': '182',\n",
      " 'LocalAuthorityEmailAddress': 'publicprotection@dover.gov.uk',\n",
      " 'LocalAuthorityName': 'Dover',\n",
      " 'LocalAuthorityWebSite': 'http://www.dover.gov.uk/',\n",
      " 'NewRatingPending': False,\n",
      " 'Phone': '',\n",
      " 'PostCode': 'CT15 6DY',\n",
      " 'RatingDate': '2022-03-24T00:00:00',\n",
      " 'RatingKey': 'fhrs_5_en-gb',\n",
      " 'RatingValue': '5',\n",
      " 'RightToReply': '',\n",
      " 'SchemeType': 'FHRS',\n",
      " '_id': ObjectId('65fcb78ae582df888fc4007f'),\n",
      " 'geocode': {'latitude': '51.152225', 'longitude': '1.387974'},\n",
      " 'links': [{'href': 'https://api.ratings.food.gov.uk/establishments/254719',\n",
      "            'rel': 'self'}],\n",
      " 'meta': {'dataSource': None,\n",
      "          'extractDate': '0001-01-01T00:00:00',\n",
      "          'itemCount': 0,\n",
      "          'pageNumber': 0,\n",
      "          'pageSize': 0,\n",
      "          'returncode': None,\n",
      "          'totalCount': 0,\n",
      "          'totalPages': 0},\n",
      " 'scores': {'ConfidenceInManagement': 5, 'Hygiene': 0, 'Structural': 5}}\n"
     ]
    }
   ],
   "source": [
    "# review a document in the establishments collection\n",
    "one_document = db[collection_name].find_one()\n",
    "pprint(one_document)\n"
   ]
  },
  {
   "cell_type": "code",
   "execution_count": 19,
   "id": "11c9f11b",
   "metadata": {},
   "outputs": [],
   "source": [
    "# assign the collection to a variable\n",
    "establishments = db['establishments']"
   ]
  },
  {
   "cell_type": "markdown",
   "id": "d5671434",
   "metadata": {},
   "source": [
    "## Part 2: Update the Database"
   ]
  },
  {
   "cell_type": "markdown",
   "id": "314bd884",
   "metadata": {},
   "source": [
    "1. An exciting new halal restaurant just opened in Greenwich, but hasn't been rated yet. The magazine has asked you to include it in your analysis. Add the following restaurant \"Penang Flavours\" to the database."
   ]
  },
  {
   "cell_type": "code",
   "execution_count": 20,
   "id": "c2da7648",
   "metadata": {},
   "outputs": [],
   "source": [
    "# Create a dictionary for the new restaurant data\n",
    "\n",
    "new_restaurant_data = {\n",
    "    \"BusinessName\": \"Penang Flavours\",\n",
    "    \"BusinessType\": \"Restaurant/Cafe/Canteen\",\n",
    "    \"BusinessTypeID\": \"\",\n",
    "    \"AddressLine1\": \"Penang Flavours\",\n",
    "    \"AddressLine2\": \"146A Plumstead Rd\",\n",
    "    \"AddressLine3\": \"London\",\n",
    "    \"AddressLine4\": \"\",\n",
    "    \"PostCode\": \"SE18 7DY\",\n",
    "    \"Phone\": \"\",\n",
    "    \"LocalAuthorityCode\": \"511\",\n",
    "    \"LocalAuthorityName\": \"Greenwich\",\n",
    "    \"LocalAuthorityWebSite\": \"http://www.royalgreenwich.gov.uk\",\n",
    "    \"LocalAuthorityEmailAddress\": \"health@royalgreenwich.gov.uk\",\n",
    "    \"scores\": {\n",
    "        \"Hygiene\": \"\",\n",
    "        \"Structural\": \"\",\n",
    "        \"ConfidenceInManagement\": \"\"\n",
    "    },\n",
    "    \"SchemeType\": \"FHRS\",\n",
    "    \"geocode\": {\n",
    "        \"longitude\": \"0.08384000\",\n",
    "        \"latitude\": \"51.49014200\"\n",
    "    },\n",
    "    \"RightToReply\": \"\",\n",
    "    \"Distance\": 4623.9723280747176,\n",
    "    \"NewRatingPending\": True\n",
    "}\n"
   ]
  },
  {
   "cell_type": "code",
   "execution_count": 22,
   "id": "a6e5cece",
   "metadata": {},
   "outputs": [],
   "source": [
    "# Select the database\n",
    "db = client['uk_food']\n",
    "\n",
    "# Select the collection\n",
    "collection = db['establishments']\n",
    "\n",
    "# Insert the new restaurant into the collection\n",
    "insert_Penang = collection.insert_one(new_restaurant_data)"
   ]
  },
  {
   "cell_type": "code",
   "execution_count": 23,
   "id": "63bb10f9",
   "metadata": {},
   "outputs": [
    {
     "name": "stdout",
     "output_type": "stream",
     "text": [
      "InsertOneResult(ObjectId('65fce1365d6f9c8651f1b58b'), acknowledged=True)\n"
     ]
    }
   ],
   "source": [
    "# Check that the new restaurant was inserted\n",
    "print(insert_Penang)"
   ]
  },
  {
   "cell_type": "markdown",
   "id": "0ef4395a",
   "metadata": {},
   "source": [
    "2. Find the BusinessTypeID for \"Restaurant/Cafe/Canteen\" and return only the `BusinessTypeID` and `BusinessType` fields."
   ]
  },
  {
   "cell_type": "code",
   "execution_count": 24,
   "id": "93c63829",
   "metadata": {},
   "outputs": [
    {
     "name": "stdout",
     "output_type": "stream",
     "text": [
      "{'BusinessType': 'Restaurant/Cafe/Canteen', 'BusinessTypeID': 1}\n"
     ]
    }
   ],
   "source": [
    "# Find the BusinessTypeID for \"Restaurant/Cafe/Canteen\" and return only the BusinessTypeID and BusinessType fields\n",
    "business_type = \"Restaurant/Cafe/Canteen\"\n",
    "query = {\"BusinessType\": business_type}\n",
    "\n",
    "# Project only the BusinessTypeID and BusinessType fields\n",
    "projection = {\"_id\": 0, \"BusinessTypeID\": 1, \"BusinessType\": 1}\n",
    "\n",
    "# Perform the query\n",
    "x = db[collection_name].find_one(query, projection)\n",
    "\n",
    "# Print the result\n",
    "print(x)"
   ]
  },
  {
   "cell_type": "markdown",
   "id": "4e570caf",
   "metadata": {},
   "source": [
    "3. Update the new restaurant with the `BusinessTypeID` you found."
   ]
  },
  {
   "cell_type": "code",
   "execution_count": 25,
   "id": "7f599f3d",
   "metadata": {},
   "outputs": [],
   "source": [
    "# Update the new restaurant with the correct BusinessTypeID\n",
    "# Define the update data\n",
    "update_data = {'BusinessType': 'Restaurant/Cafe/Canteen', 'BusinessTypeID': 1}\n",
    "\n",
    "# Update the document named 'insert_Penang'\n",
    "query = {'Name': 'insert_Penang'}  # Assuming 'Name' field uniquely identifies the document\n",
    "result = db[collection_name].update_one(query, {'$set': update_data})"
   ]
  },
  {
   "cell_type": "code",
   "execution_count": 26,
   "id": "a6ad16f7",
   "metadata": {},
   "outputs": [
    {
     "name": "stdout",
     "output_type": "stream",
     "text": [
      "InsertOneResult(ObjectId('65fce1365d6f9c8651f1b58b'), acknowledged=True)\n"
     ]
    }
   ],
   "source": [
    "# Confirm that the new restaurant was updated\n",
    "print(insert_Penang)"
   ]
  },
  {
   "cell_type": "markdown",
   "id": "67281254",
   "metadata": {},
   "source": [
    "4. The magazine is not interested in any establishments in Dover, so check how many documents contain the Dover Local Authority. Then, remove any establishments within the Dover Local Authority from the database, and check the number of documents to ensure they were deleted."
   ]
  },
  {
   "cell_type": "code",
   "execution_count": 30,
   "id": "768474a6",
   "metadata": {},
   "outputs": [
    {
     "name": "stdout",
     "output_type": "stream",
     "text": [
      "Number of documents with LocalAuthorityName as 'Dover': 994\n"
     ]
    }
   ],
   "source": [
    "# Find how many documents have LocalAuthorityName as \"Dover\"\n",
    "# Define the query to count documents with LocalAuthorityName as \"Dover\"\n",
    "query = {\"LocalAuthorityName\": \"Dover\"}\n",
    "\n",
    "# Count the documents\n",
    "count = db[collection_name].count_documents(query)\n",
    "\n",
    "# Print the count\n",
    "print(f\"Number of documents with LocalAuthorityName as 'Dover': {count}\")"
   ]
  },
  {
   "cell_type": "code",
   "execution_count": 31,
   "id": "a11d5f1b",
   "metadata": {},
   "outputs": [],
   "source": [
    "# Delete all documents where LocalAuthorityName is \"Dover\"\n",
    "delete_result = db[collection_name].delete_many(query)"
   ]
  },
  {
   "cell_type": "code",
   "execution_count": 33,
   "id": "2a51aba0",
   "metadata": {},
   "outputs": [
    {
     "name": "stdout",
     "output_type": "stream",
     "text": [
      "Number of documents with LocalAuthorityName as 'Dover': 0\n"
     ]
    }
   ],
   "source": [
    "# Check if any remaining documents include Dover\n",
    "query = {\"LocalAuthorityName\": \"Dover\"}\n",
    "\n",
    "# Count the documents\n",
    "count = db[collection_name].count_documents(query)\n",
    "\n",
    "# Print the count\n",
    "print(f\"Number of documents with LocalAuthorityName as 'Dover': {count}\")"
   ]
  },
  {
   "cell_type": "code",
   "execution_count": 34,
   "id": "8c356f7b",
   "metadata": {},
   "outputs": [
    {
     "name": "stdout",
     "output_type": "stream",
     "text": [
      "Retrieved document:\n",
      "{'_id': ObjectId('65fcb78ae582df888fc40366'), 'FHRSID': 1043695, 'ChangesByServerID': 0, 'LocalAuthorityBusinessID': 'PI/000073616', 'BusinessName': 'The Pavilion', 'BusinessType': 'Restaurant/Cafe/Canteen', 'BusinessTypeID': 1, 'AddressLine1': 'East Cliff Pavilion', 'AddressLine2': 'Wear Bay Road', 'AddressLine3': 'Folkestone', 'AddressLine4': 'Kent', 'PostCode': 'CT19 6BL', 'Phone': '', 'RatingValue': '5', 'RatingKey': 'fhrs_5_en-gb', 'RatingDate': '2018-04-04T00:00:00', 'LocalAuthorityCode': '188', 'LocalAuthorityName': 'Folkestone and Hythe', 'LocalAuthorityWebSite': 'http://www.folkestone-hythe.gov.uk', 'LocalAuthorityEmailAddress': 'foodteam@folkestone-hythe.gov.uk', 'scores': {'Hygiene': 5, 'Structural': 5, 'ConfidenceInManagement': 5}, 'SchemeType': 'FHRS', 'geocode': {'longitude': '1.195625', 'latitude': '51.083812'}, 'RightToReply': '', 'Distance': 4591.765489457773, 'NewRatingPending': False, 'meta': {'dataSource': None, 'extractDate': '0001-01-01T00:00:00', 'itemCount': 0, 'returncode': None, 'totalCount': 0, 'totalPages': 0, 'pageSize': 0, 'pageNumber': 0}, 'links': [{'rel': 'self', 'href': 'https://api.ratings.food.gov.uk/establishments/1043695'}]}\n"
     ]
    }
   ],
   "source": [
    "# Check that other documents remain with 'find_one'\n",
    "document = db[collection_name].find_one({})\n",
    "\n",
    "# Print the retrieved document\n",
    "print(\"Retrieved document:\")\n",
    "print(document)"
   ]
  },
  {
   "attachments": {},
   "cell_type": "markdown",
   "id": "e9f1662d",
   "metadata": {},
   "source": [
    "5. Some of the number values are stored as strings, when they should be stored as numbers."
   ]
  },
  {
   "attachments": {},
   "cell_type": "markdown",
   "id": "c46df2df",
   "metadata": {},
   "source": [
    "Use `update_many` to convert `latitude` and `longitude` to decimal numbers."
   ]
  },
  {
   "cell_type": "code",
   "execution_count": 44,
   "id": "fd4112ce",
   "metadata": {},
   "outputs": [],
   "source": [
    "db = client['uk_food']\n",
    "collection_name = 'establishments'\n",
    "\n",
    "# Change the data type from String to Decimal for longitude and latitude\n",
    "update_operation = [\n",
    "    {\n",
    "        '$set': {\n",
    "            'geocode.latitude': {'$toDouble': '$geocode.latitude'},\n",
    "            'geocode.longitude': {'$toDouble': '$geocode.longitude'}\n",
    "        }\n",
    "    }\n",
    "]\n",
    "\n",
    "# Execute the update operation with update_many()\n",
    "update_result = db[collection_name].update_many({}, update_operation)"
   ]
  },
  {
   "attachments": {},
   "cell_type": "markdown",
   "id": "142e319c",
   "metadata": {},
   "source": [
    "Use `update_many` to convert `RatingValue` to integer numbers."
   ]
  },
  {
   "cell_type": "code",
   "execution_count": 45,
   "id": "04430a5b",
   "metadata": {},
   "outputs": [],
   "source": [
    "db = client['uk_food']\n",
    "collection_name = 'establishments'\n",
    "\n",
    "# Set non 1-5 Rating Values to Null\n",
    "non_ratings = [\"AwaitingInspection\", \"Awaiting Inspection\", \"AwaitingPublication\", \"Pass\", \"Exempt\"]\n",
    "establishments.update_many({\"RatingValue\": {\"$in\": non_ratings}}, [ {'$set':{ \"RatingValue\" : None}} ])\n",
    "update_operation = [\n",
    "    {\n",
    "        '$set': {\n",
    "            'RatingValue': {'$toInt': '$RatingValue'}\n",
    "        }\n",
    "    }\n",
    "]\n",
    "\n",
    "# Execute the update operation with update_many()\n",
    "update_result = db[collection_name].update_many({}, update_operation)"
   ]
  },
  {
   "cell_type": "code",
   "execution_count": 46,
   "id": "92524ccc",
   "metadata": {},
   "outputs": [],
   "source": [
    "db = client['uk_food']\n",
    "collection_name = 'establishments'\n",
    "\n",
    "# Change the data type from String to Integer for RatingValue\n",
    "update_operation = [\n",
    "    {\n",
    "        '$set': {\n",
    "            'RatingValue': {'$toInt': '$RatingValue'}\n",
    "        }\n",
    "    }\n",
    "]\n",
    "\n",
    "# Execute the update operation with update_many()\n",
    "update_result = db[collection_name].update_many({}, update_operation)"
   ]
  },
  {
   "cell_type": "code",
   "execution_count": 43,
   "id": "0deacaf9",
   "metadata": {},
   "outputs": [
    {
     "name": "stdout",
     "output_type": "stream",
     "text": [
      "Data types of the columns:\n",
      "_id                            object\n",
      "FHRSID                        float64\n",
      "ChangesByServerID             float64\n",
      "LocalAuthorityBusinessID       object\n",
      "BusinessName                   object\n",
      "BusinessType                   object\n",
      "BusinessTypeID                 object\n",
      "AddressLine1                   object\n",
      "AddressLine2                   object\n",
      "AddressLine3                   object\n",
      "AddressLine4                   object\n",
      "PostCode                       object\n",
      "Phone                          object\n",
      "RatingValue                   float64\n",
      "RatingKey                      object\n",
      "RatingDate                     object\n",
      "LocalAuthorityCode             object\n",
      "LocalAuthorityName             object\n",
      "LocalAuthorityWebSite          object\n",
      "LocalAuthorityEmailAddress     object\n",
      "scores                         object\n",
      "SchemeType                     object\n",
      "geocode                        object\n",
      "RightToReply                   object\n",
      "Distance                      float64\n",
      "NewRatingPending                 bool\n",
      "meta                           object\n",
      "links                          object\n",
      "dtype: object\n"
     ]
    }
   ],
   "source": [
    "import pandas as pd\n",
    "\n",
    "db = client['uk_food']\n",
    "collection_name = 'establishments'\n",
    "\n",
    "# Check that the coordinates and rating value are now numbers\n",
    "df = pd.DataFrame(list(db[collection_name].find()))\n",
    "\n",
    "# Check the data types of the columns\n",
    "print(\"Data types of the columns:\")\n",
    "print(df.dtypes)"
   ]
  },
  {
   "cell_type": "code",
   "execution_count": null,
   "id": "f0a6cadb-ba2f-4a0d-b4eb-b46f29ba3383",
   "metadata": {},
   "outputs": [],
   "source": []
  }
 ],
 "metadata": {
  "kernelspec": {
   "display_name": "Python 3 (ipykernel)",
   "language": "python",
   "name": "python3"
  },
  "language_info": {
   "codemirror_mode": {
    "name": "ipython",
    "version": 3
   },
   "file_extension": ".py",
   "mimetype": "text/x-python",
   "name": "python",
   "nbconvert_exporter": "python",
   "pygments_lexer": "ipython3",
   "version": "3.11.5"
  }
 },
 "nbformat": 4,
 "nbformat_minor": 5
}
